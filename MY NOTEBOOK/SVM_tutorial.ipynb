{
 "cells": [
  {
   "cell_type": "markdown",
   "id": "e2eac850-f802-4be7-9a01-92fb675842f3",
   "metadata": {},
   "source": [
    "# Importing libraries"
   ]
  },
  {
   "cell_type": "code",
   "execution_count": 1,
   "id": "ee117321-bbf5-423a-9bb9-33c3e2372717",
   "metadata": {},
   "outputs": [],
   "source": [
    "from sklearn import datasets\n",
    "from sklearn.model_selection import train_test_split\n",
    "import matplotlib.pyplot as plt\n",
    "import numpy as np\n",
    "from sklearn.svm import SVC"
   ]
  },
  {
   "cell_type": "markdown",
   "id": "4927df1b-a1ce-4ad0-a7af-70b09d77391d",
   "metadata": {},
   "source": [
    "# Loading the dataset"
   ]
  },
  {
   "cell_type": "code",
   "execution_count": 2,
   "id": "d32d0d4c-f640-4045-8b31-12087b523b60",
   "metadata": {},
   "outputs": [],
   "source": [
    "iris_data = datasets.load_iris()"
   ]
  },
  {
   "cell_type": "markdown",
   "id": "fc147850-0cce-4a0a-b211-334d6c6a7586",
   "metadata": {},
   "source": [
    "# dataset information\n",
    "\n",
    "**No. of datapoints:** 150\n",
    "\n",
    "**No. of features:** 4 (sepal length, sepal width, petal length, petal width)\n",
    "                    \n",
    "                    Note: we're going to use only 2 features (petal length and petal width)\n",
    "                    \n",
    "**No. of classes:** 3 (sentosa, versicolor, virginica)"
   ]
  },
  {
   "cell_type": "code",
   "execution_count": 3,
   "id": "f5315119-77f2-4c79-9438-1ff5f9c9a4a4",
   "metadata": {},
   "outputs": [],
   "source": [
    "X = iris_data.data[:, [2, 3]]\n",
    "y = iris_data.target\n",
    "\n",
    "X_train, X_test, y_train, y_test = train_test_split(X, y, test_size=0.3, random_state=0)"
   ]
  },
  {
   "cell_type": "markdown",
   "id": "e6645e49-1296-444b-a731-294376fe1303",
   "metadata": {},
   "source": [
    "# Visualizing the dataset"
   ]
  },
  {
   "cell_type": "code",
   "execution_count": 4,
   "id": "57e20f0b-d6cc-4a18-a797-7d02c7bd819b",
   "metadata": {},
   "outputs": [
    {
     "data": {
      "image/png": "[encoded data removed]",
      "text/plain": [
       "<Figure size 432x288 with 1 Axes>"
      ]
     },
     "metadata": {
      "needs_background": "light"
     },
     "output_type": "display_data"
    }
   ],
   "source": [
    "colors = {0: 'red', 1:'green', 2:'blue'}\n",
    "for idx, cl in enumerate(np.unique(y_train)):\n",
    "    plt.scatter(X_train[np.where(y_train==idx)][:,0], X_train[np.where(y_train==idx)][:,1],\n",
    "           c=colors[idx], label=iris_data['target_names'][idx])\n",
    "plt.legend()\n",
    "plt.show()"
   ]
  },
  {
   "cell_type": "markdown",
   "id": "b4975ffb-8f92-48af-995b-cddb17d3be12",
   "metadata": {},
   "source": [
    "# Train SVM classifier"
   ]
  },
  {
   "cell_type": "code",
   "execution_count": 5,
   "id": "fbdceeaa-af91-408c-b4db-811d50e4c6d3",
   "metadata": {},
   "outputs": [
    {
     "name": "stdout",
     "output_type": "stream",
     "text": [
      "Accuracy of SVM model on the training data 97.14285714285714 %\n"
     ]
    }
   ],
   "source": [
    "SVM = SVC(kernel='rbf', random_state=0, gamma=.10, C=1.0)\n",
    "SVM.fit(X_train, y_train)\n",
    "\n",
    "print('Accuracy of SVM model on the training data', SVM.score(X_train, y_train)*100, \"%\")"
   ]
  },
  {
   "cell_type": "markdown",
   "id": "35834ca1-4767-4039-a3f8-64d72fa9f55f",
   "metadata": {},
   "source": [
    "# Evaluate SVM classifier"
   ]
  },
  {
   "cell_type": "code",
   "execution_count": 6,
   "id": "5c3a4f15-0988-49bc-b67d-89c265e1e775",
   "metadata": {},
   "outputs": [
    {
     "name": "stdout",
     "output_type": "stream",
     "text": [
      "Accuracy of SVM model on the training data 97.77777777777777 %\n"
     ]
    }
   ],
   "source": [
    "print('Accuracy of SVM model on the training data', SVM.score(X_test, y_test)*100, \"%\")"
   ]
  },
  {
   "cell_type": "markdown",
   "id": "a3e99bd4-1d33-4961-80a1-623e84d9cdf0",
   "metadata": {},
   "source": [
    "# Visualize decision boundry"
   ]
  },
  {
   "cell_type": "code",
   "execution_count": 7,
   "id": "c4a6bef9-2a80-4eb6-88ee-ec79ccbd7d6e",
   "metadata": {},
   "outputs": [],
   "source": [
    "import warnings\n",
    "from matplotlib.colors import ListedColormap\n",
    "colors = ('red', 'green', 'blue')\n",
    "cmap = ListedColormap(colors[:len(np.unique(y_test))])\n",
    "def versiontuple(version):\n",
    "    return tuple(map(int, (version.split(\".\"))))\n",
    "def decision_plot(X, y, classifier, test_idx=None, resolution=0.02):\n",
    "    # setup marker generator and color map\n",
    "    markers = ('s', 'x', 'o', '^', 'v')\n",
    "    colors = ('red', 'blue', 'green', 'gray', 'cyan')\n",
    "    cmap = ListedColormap(colors[:len(np.unique(y))])\n",
    "    # plot the decision surface\n",
    "    x1min, x1max = X[:, 0].min() - 1, X[:, 0].max() + 1\n",
    "    x2min, x2max = X[:, 1].min() - 1, X[:, 1].max() + 1\n",
    "    xx1, xx2 = np.meshgrid(np.arange(x1min, x1max, resolution),\n",
    "                 np.arange(x2min, x2max, resolution))\n",
    "    Z = classifier.predict(np.array([xx1.ravel(), xx2.ravel()]).T)\n",
    "    Z = Z.reshape(xx1.shape)\n",
    "    plt.contourf(xx1, xx2, Z, alpha=0.4, cmap=cmap)\n",
    "    plt.xlim(xx1.min(), xx1.max())\n",
    "    plt.ylim(xx2.min(), xx2.max())\n",
    "    for idx, cl in enumerate(np.unique(y)):\n",
    "        plt.scatter(x=X[y == cl, 0], y=X[y == cl, 1],\n",
    "              alpha=0.8, c=cmap(idx),\n",
    "              marker=markers[idx], label=cl)"
   ]
  },
  {
   "cell_type": "code",
   "execution_count": 8,
   "id": "1058ecf7-39ca-4143-b843-fd8431e7a8c2",
   "metadata": {},
   "outputs": [
    {
     "name": "stderr",
     "output_type": "stream",
     "text": [
      "*c* argument looks like a single numeric RGB or RGBA sequence, which should be avoided as value-mapping will have precedence in case its length matches with *x* & *y*.  Please use the *color* keyword-argument or provide a 2-D array with a single row if you intend to specify the same RGB or RGBA value for all points.\n",
      "*c* argument looks like a single numeric RGB or RGBA sequence, which should be avoided as value-mapping will have precedence in case its length matches with *x* & *y*.  Please use the *color* keyword-argument or provide a 2-D array with a single row if you intend to specify the same RGB or RGBA value for all points.\n",
      "*c* argument looks like a single numeric RGB or RGBA sequence, which should be avoided as value-mapping will have precedence in case its length matches with *x* & *y*.  Please use the *color* keyword-argument or provide a 2-D array with a single row if you intend to specify the same RGB or RGBA value for all points.\n"
     ]
    },
    {
     "data": {
      "image/png": "[encoded data removed]",
      "text/plain": [
       "<Figure size 432x288 with 1 Axes>"
      ]
     },
     "metadata": {
      "needs_background": "light"
     },
     "output_type": "display_data"
    }
   ],
   "source": [
    "decision_plot(X_test, y_test, SVM)"
   ]
  },
  {
   "cell_type": "markdown",
   "id": "46f707a1-6753-4995-b3d9-e1995306b43b",
   "metadata": {},
   "source": [
    "# SVM interactive demo\n",
    "\n",
    "https://cs.stanford.edu/~karpathy/svmjs/demo/"
   ]
  },
  {
   "cell_type": "code",
   "execution_count": null,
   "id": "6b22c0ba-1574-48ca-8a23-07332a9a56ee",
   "metadata": {},
   "outputs": [],
   "source": []
  }
 ],
 "metadata": {
  "kernelspec": {
   "display_name": "Python 3",
   "language": "python",
   "name": "python3"
  },
  "language_info": {
   "codemirror_mode": {
    "name": "ipython",
    "version": 3
   },
   "file_extension": ".py",
   "mimetype": "text/x-python",
   "name": "python",
   "nbconvert_exporter": "python",
   "pygments_lexer": "ipython3",
   "version": "3.8.8"
  }
 },
 "nbformat": 4,
 "nbformat_minor": 5
}
